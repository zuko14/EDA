{
 "cells": [
  {
   "cell_type": "markdown",
   "id": "71376bc4-b3cb-44fd-9fec-bb4ca740deb3",
   "metadata": {},
   "source": [
    "                                 Automated EDA session\n",
    "\n",
    "                                 # automed eda techniques"
   ]
  },
  {
   "cell_type": "code",
   "execution_count": 4,
   "id": "870fac9e-f42e-4f2b-9e4a-6ba807029f88",
   "metadata": {},
   "outputs": [],
   "source": [
    "import seaborn as sns\n",
    "import dtale\n",
    "import pandas as pd"
   ]
  },
  {
   "cell_type": "code",
   "execution_count": 5,
   "id": "a10cc4b0-5f3e-4dad-8834-cdc6d6d3db26",
   "metadata": {},
   "outputs": [],
   "source": [
    "df=sns.load_dataset('titanic')"
   ]
  },
  {
   "cell_type": "code",
   "execution_count": 8,
   "id": "56beae94-088a-4b72-bed2-4f2a394a0344",
   "metadata": {
    "scrolled": true
   },
   "outputs": [
    {
     "data": {
      "text/html": [
       "\n",
       "        <iframe\n",
       "            width=\"100%\"\n",
       "            height=\"475\"\n",
       "            src=\"http://CHAITANYAKUMAR:40000/dtale/iframe/3\"\n",
       "            frameborder=\"0\"\n",
       "            allowfullscreen\n",
       "            \n",
       "        ></iframe>\n",
       "        "
      ],
      "text/plain": [
       "<IPython.lib.display.IFrame at 0x23bcb6de390>"
      ]
     },
     "metadata": {},
     "output_type": "display_data"
    },
    {
     "data": {
      "text/plain": []
     },
     "execution_count": 8,
     "metadata": {},
     "output_type": "execute_result"
    }
   ],
   "source": [
    "dtale.show(df)\n"
   ]
  },
  {
   "cell_type": "code",
   "execution_count": 19,
   "id": "3463e190-e2d1-4475-a956-53519823feac",
   "metadata": {},
   "outputs": [],
   "source": [
    "import lux\n",
    "lux.logger=True\n",
    "import pandas as pd"
   ]
  },
  {
   "cell_type": "code",
   "execution_count": 21,
   "id": "381fc5da-d7cb-4685-aa38-c4a0bdc191ff",
   "metadata": {},
   "outputs": [],
   "source": [
    "df = pd.read_csv(\"https://raw.githubusercontent.com/lux-org/lux-datasets/master/data/college.csv\")\n"
   ]
  },
  {
   "cell_type": "code",
   "execution_count": 22,
   "id": "809060f7-eb83-4652-ac31-c2ac78e4b754",
   "metadata": {},
   "outputs": [
    {
     "name": "stderr",
     "output_type": "stream",
     "text": [
      "C:\\Users\\chait\\AppData\\Local\\Programs\\Python\\Python312\\Lib\\site-packages\\lux\\executor\\PandasExecutor.py:548: UserWarning:Could not infer format, so each element will be parsed individually, falling back to `dateutil`. To ensure parsing is consistent and as-expected, please specify a format.\n",
      "C:\\Users\\chait\\AppData\\Local\\Programs\\Python\\Python312\\Lib\\site-packages\\lux\\executor\\PandasExecutor.py:548: UserWarning:Could not infer format, so each element will be parsed individually, falling back to `dateutil`. To ensure parsing is consistent and as-expected, please specify a format.\n",
      "C:\\Users\\chait\\AppData\\Local\\Programs\\Python\\Python312\\Lib\\site-packages\\lux\\executor\\PandasExecutor.py:548: UserWarning:Could not infer format, so each element will be parsed individually, falling back to `dateutil`. To ensure parsing is consistent and as-expected, please specify a format.\n",
      "C:\\Users\\chait\\AppData\\Local\\Programs\\Python\\Python312\\Lib\\site-packages\\lux\\executor\\PandasExecutor.py:548: UserWarning:Could not infer format, so each element will be parsed individually, falling back to `dateutil`. To ensure parsing is consistent and as-expected, please specify a format.\n",
      "C:\\Users\\chait\\AppData\\Local\\Programs\\Python\\Python312\\Lib\\site-packages\\lux\\executor\\PandasExecutor.py:548: UserWarning:Could not infer format, so each element will be parsed individually, falling back to `dateutil`. To ensure parsing is consistent and as-expected, please specify a format.\n",
      "C:\\Users\\chait\\AppData\\Local\\Programs\\Python\\Python312\\Lib\\site-packages\\lux\\executor\\PandasExecutor.py:548: UserWarning:Could not infer format, so each element will be parsed individually, falling back to `dateutil`. To ensure parsing is consistent and as-expected, please specify a format.\n",
      "C:\\Users\\chait\\AppData\\Local\\Programs\\Python\\Python312\\Lib\\site-packages\\lux\\executor\\PandasExecutor.py:567: UserWarning:Could not infer format, so each element will be parsed individually, falling back to `dateutil`. To ensure parsing is consistent and as-expected, please specify a format.\n",
      "C:\\Users\\chait\\AppData\\Local\\Programs\\Python\\Python312\\Lib\\site-packages\\lux\\executor\\PandasExecutor.py:567: UserWarning:Could not infer format, so each element will be parsed individually, falling back to `dateutil`. To ensure parsing is consistent and as-expected, please specify a format.\n",
      "C:\\Users\\chait\\AppData\\Local\\Programs\\Python\\Python312\\Lib\\site-packages\\lux\\executor\\PandasExecutor.py:567: UserWarning:Could not infer format, so each element will be parsed individually, falling back to `dateutil`. To ensure parsing is consistent and as-expected, please specify a format.\n",
      "C:\\Users\\chait\\AppData\\Local\\Programs\\Python\\Python312\\Lib\\site-packages\\lux\\executor\\PandasExecutor.py:567: UserWarning:Could not infer format, so each element will be parsed individually, falling back to `dateutil`. To ensure parsing is consistent and as-expected, please specify a format.\n",
      "C:\\Users\\chait\\AppData\\Local\\Programs\\Python\\Python312\\Lib\\site-packages\\lux\\executor\\PandasExecutor.py:567: UserWarning:Could not infer format, so each element will be parsed individually, falling back to `dateutil`. To ensure parsing is consistent and as-expected, please specify a format.\n",
      "C:\\Users\\chait\\AppData\\Local\\Programs\\Python\\Python312\\Lib\\site-packages\\lux\\executor\\PandasExecutor.py:567: UserWarning:Could not infer format, so each element will be parsed individually, falling back to `dateutil`. To ensure parsing is consistent and as-expected, please specify a format.\n"
     ]
    },
    {
     "data": {
      "application/vnd.jupyter.widget-view+json": {
       "model_id": "5d2f55f280bb4a2b94a595e5eae88312",
       "version_major": 2,
       "version_minor": 0
      },
      "text/plain": [
       "Button(description='Toggle Pandas/Lux', layout=Layout(top='5px', width='140px'), style=ButtonStyle())"
      ]
     },
     "metadata": {},
     "output_type": "display_data"
    },
    {
     "data": {
      "application/vnd.jupyter.widget-view+json": {
       "model_id": "5fdff1ed0d174e23ae1cd07a149ab40a",
       "version_major": 2,
       "version_minor": 0
      },
      "text/plain": [
       "Output()"
      ]
     },
     "metadata": {},
     "output_type": "display_data"
    }
   ],
   "source": [
    "df\n",
    "\n"
   ]
  },
  {
   "cell_type": "code",
   "execution_count": null,
   "id": "4c9c63df-c279-49b7-9895-ef504b19efa2",
   "metadata": {},
   "outputs": [],
   "source": []
  },
  {
   "cell_type": "code",
   "execution_count": null,
   "id": "938b9a99-f519-4c91-a38c-45f8f8bee3a1",
   "metadata": {},
   "outputs": [],
   "source": []
  },
  {
   "cell_type": "code",
   "execution_count": null,
   "id": "b240d0a3-d679-45af-9f40-d867617b0d86",
   "metadata": {},
   "outputs": [],
   "source": []
  },
  {
   "cell_type": "code",
   "execution_count": null,
   "id": "10ee4453-5db0-4d83-b80c-62b074bd4a90",
   "metadata": {},
   "outputs": [],
   "source": []
  },
  {
   "cell_type": "code",
   "execution_count": null,
   "id": "332372e9-6a4c-420c-824b-b96a489c4db7",
   "metadata": {},
   "outputs": [],
   "source": []
  },
  {
   "cell_type": "code",
   "execution_count": null,
   "id": "4295d9f9-ae22-467e-870a-49ff87428d22",
   "metadata": {},
   "outputs": [],
   "source": []
  },
  {
   "cell_type": "code",
   "execution_count": null,
   "id": "e08c3926-154f-4a63-b1c5-e0d90aab3668",
   "metadata": {},
   "outputs": [],
   "source": []
  }
 ],
 "metadata": {
  "kernelspec": {
   "display_name": "Python 3 (ipykernel)",
   "language": "python",
   "name": "python3"
  },
  "language_info": {
   "codemirror_mode": {
    "name": "ipython",
    "version": 3
   },
   "file_extension": ".py",
   "mimetype": "text/x-python",
   "name": "python",
   "nbconvert_exporter": "python",
   "pygments_lexer": "ipython3",
   "version": "3.12.10"
  }
 },
 "nbformat": 4,
 "nbformat_minor": 5
}
