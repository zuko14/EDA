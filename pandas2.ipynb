{
 "cells": [
  {
   "cell_type": "code",
   "execution_count": 2,
   "id": "95e24e99-645f-4228-bcce-62f0a9ec24af",
   "metadata": {},
   "outputs": [],
   "source": [
    "import pandas as pd\n",
    "import numpy as np"
   ]
  },
  {
   "cell_type": "code",
   "execution_count": 18,
   "id": "79046fa4-1107-4ca3-a408-b3142a281eb4",
   "metadata": {},
   "outputs": [],
   "source": [
    "# for reading files\n",
    "\n",
    "df=pd.read_csv(r'C:\\Users\\chait\\Downloads\\usa_mercedes_benz_prices.csv')"
   ]
  },
  {
   "cell_type": "code",
   "execution_count": 21,
   "id": "33945e77-52ed-43c5-88da-e556d45c7ae6",
   "metadata": {},
   "outputs": [
    {
     "data": {
      "text/html": [
       "<div>\n",
       "<style scoped>\n",
       "    .dataframe tbody tr th:only-of-type {\n",
       "        vertical-align: middle;\n",
       "    }\n",
       "\n",
       "    .dataframe tbody tr th {\n",
       "        vertical-align: top;\n",
       "    }\n",
       "\n",
       "    .dataframe thead th {\n",
       "        text-align: right;\n",
       "    }\n",
       "</style>\n",
       "<table border=\"1\" class=\"dataframe\">\n",
       "  <thead>\n",
       "    <tr style=\"text-align: right;\">\n",
       "      <th></th>\n",
       "      <th>Name</th>\n",
       "      <th>Mileage</th>\n",
       "      <th>Rating</th>\n",
       "      <th>Review Count</th>\n",
       "      <th>Price</th>\n",
       "    </tr>\n",
       "  </thead>\n",
       "  <tbody>\n",
       "    <tr>\n",
       "      <th>0</th>\n",
       "      <td>2021 Mercedes-Benz A-Class A 220 4MATIC</td>\n",
       "      <td>29,636 mi.</td>\n",
       "      <td>3.9</td>\n",
       "      <td>1,800</td>\n",
       "      <td>$30,900</td>\n",
       "    </tr>\n",
       "    <tr>\n",
       "      <th>1</th>\n",
       "      <td>2022 Mercedes-Benz AMG SL 63 Base</td>\n",
       "      <td>5,540 mi.</td>\n",
       "      <td>4.7</td>\n",
       "      <td>1,239</td>\n",
       "      <td>$139,999</td>\n",
       "    </tr>\n",
       "    <tr>\n",
       "      <th>2</th>\n",
       "      <td>2022 Mercedes-Benz AMG SL 63 Base</td>\n",
       "      <td>4,890 mi.</td>\n",
       "      <td>4.7</td>\n",
       "      <td>1,239</td>\n",
       "      <td>$132,999</td>\n",
       "    </tr>\n",
       "    <tr>\n",
       "      <th>3</th>\n",
       "      <td>2020 Mercedes-Benz AMG E 53 Base 4MATIC</td>\n",
       "      <td>29,746 mi.</td>\n",
       "      <td>4.8</td>\n",
       "      <td>752</td>\n",
       "      <td>$58,587</td>\n",
       "    </tr>\n",
       "    <tr>\n",
       "      <th>4</th>\n",
       "      <td>2021 Mercedes-Benz AMG GLS 63 Base 4MATIC</td>\n",
       "      <td>32,631 mi.</td>\n",
       "      <td>5.0</td>\n",
       "      <td>1,502</td>\n",
       "      <td>$95,990</td>\n",
       "    </tr>\n",
       "  </tbody>\n",
       "</table>\n",
       "</div>"
      ],
      "text/plain": [
       "                                        Name     Mileage  Rating Review Count  \\\n",
       "0    2021 Mercedes-Benz A-Class A 220 4MATIC  29,636 mi.     3.9       1,800    \n",
       "1          2022 Mercedes-Benz AMG SL 63 Base   5,540 mi.     4.7       1,239    \n",
       "2          2022 Mercedes-Benz AMG SL 63 Base   4,890 mi.     4.7       1,239    \n",
       "3    2020 Mercedes-Benz AMG E 53 Base 4MATIC  29,746 mi.     4.8         752    \n",
       "4  2021 Mercedes-Benz AMG GLS 63 Base 4MATIC  32,631 mi.     5.0       1,502    \n",
       "\n",
       "      Price  \n",
       "0   $30,900  \n",
       "1  $139,999  \n",
       "2  $132,999  \n",
       "3   $58,587  \n",
       "4   $95,990  "
      ]
     },
     "execution_count": 21,
     "metadata": {},
     "output_type": "execute_result"
    }
   ],
   "source": [
    "df.head()"
   ]
  },
  {
   "cell_type": "code",
   "execution_count": 22,
   "id": "a2808a12-a3b1-4107-bd1b-fe1e55006f65",
   "metadata": {},
   "outputs": [
    {
     "name": "stdout",
     "output_type": "stream",
     "text": [
      "<class 'pandas.core.frame.DataFrame'>\n",
      "RangeIndex: 2429 entries, 0 to 2428\n",
      "Data columns (total 5 columns):\n",
      " #   Column        Non-Null Count  Dtype  \n",
      "---  ------        --------------  -----  \n",
      " 0   Name          2429 non-null   object \n",
      " 1   Mileage       2429 non-null   object \n",
      " 2   Rating        2135 non-null   float64\n",
      " 3   Review Count  2398 non-null   object \n",
      " 4   Price         2429 non-null   object \n",
      "dtypes: float64(1), object(4)\n",
      "memory usage: 95.0+ KB\n"
     ]
    }
   ],
   "source": [
    "df.info()"
   ]
  },
  {
   "cell_type": "code",
   "execution_count": 23,
   "id": "90a66809-6116-492c-bd86-8b664980dcbd",
   "metadata": {},
   "outputs": [
    {
     "data": {
      "text/html": [
       "<div>\n",
       "<style scoped>\n",
       "    .dataframe tbody tr th:only-of-type {\n",
       "        vertical-align: middle;\n",
       "    }\n",
       "\n",
       "    .dataframe tbody tr th {\n",
       "        vertical-align: top;\n",
       "    }\n",
       "\n",
       "    .dataframe thead th {\n",
       "        text-align: right;\n",
       "    }\n",
       "</style>\n",
       "<table border=\"1\" class=\"dataframe\">\n",
       "  <thead>\n",
       "    <tr style=\"text-align: right;\">\n",
       "      <th></th>\n",
       "      <th>Rating</th>\n",
       "    </tr>\n",
       "  </thead>\n",
       "  <tbody>\n",
       "    <tr>\n",
       "      <th>count</th>\n",
       "      <td>2135.000000</td>\n",
       "    </tr>\n",
       "    <tr>\n",
       "      <th>mean</th>\n",
       "      <td>4.533724</td>\n",
       "    </tr>\n",
       "    <tr>\n",
       "      <th>std</th>\n",
       "      <td>0.386506</td>\n",
       "    </tr>\n",
       "    <tr>\n",
       "      <th>min</th>\n",
       "      <td>2.100000</td>\n",
       "    </tr>\n",
       "    <tr>\n",
       "      <th>25%</th>\n",
       "      <td>4.400000</td>\n",
       "    </tr>\n",
       "    <tr>\n",
       "      <th>50%</th>\n",
       "      <td>4.600000</td>\n",
       "    </tr>\n",
       "    <tr>\n",
       "      <th>75%</th>\n",
       "      <td>4.800000</td>\n",
       "    </tr>\n",
       "    <tr>\n",
       "      <th>max</th>\n",
       "      <td>5.000000</td>\n",
       "    </tr>\n",
       "  </tbody>\n",
       "</table>\n",
       "</div>"
      ],
      "text/plain": [
       "            Rating\n",
       "count  2135.000000\n",
       "mean      4.533724\n",
       "std       0.386506\n",
       "min       2.100000\n",
       "25%       4.400000\n",
       "50%       4.600000\n",
       "75%       4.800000\n",
       "max       5.000000"
      ]
     },
     "execution_count": 23,
     "metadata": {},
     "output_type": "execute_result"
    }
   ],
   "source": [
    "df.describe()"
   ]
  },
  {
   "cell_type": "code",
   "execution_count": 26,
   "id": "4c054f4b-eedc-4c93-8c29-e842d31ca73c",
   "metadata": {},
   "outputs": [
    {
     "data": {
      "text/plain": [
       "Rating\n",
       "4.8    370\n",
       "4.7    332\n",
       "4.9    268\n",
       "4.6    263\n",
       "4.5    226\n",
       "4.3    165\n",
       "4.4    152\n",
       "4.0     85\n",
       "4.2     55\n",
       "5.0     52\n",
       "3.9     51\n",
       "3.2     16\n",
       "4.1     16\n",
       "3.6     15\n",
       "3.4     14\n",
       "3.8     11\n",
       "3.7      9\n",
       "2.9      9\n",
       "3.1      9\n",
       "3.0      5\n",
       "2.7      4\n",
       "2.1      3\n",
       "2.5      2\n",
       "3.5      2\n",
       "3.3      1\n",
       "Name: count, dtype: int64"
      ]
     },
     "execution_count": 26,
     "metadata": {},
     "output_type": "execute_result"
    }
   ],
   "source": [
    "df['Rating'].value_counts()"
   ]
  },
  {
   "cell_type": "code",
   "execution_count": 30,
   "id": "a6dab1d8-a10c-49ad-9abf-b57a869718c6",
   "metadata": {},
   "outputs": [
    {
     "data": {
      "text/html": [
       "<div>\n",
       "<style scoped>\n",
       "    .dataframe tbody tr th:only-of-type {\n",
       "        vertical-align: middle;\n",
       "    }\n",
       "\n",
       "    .dataframe tbody tr th {\n",
       "        vertical-align: top;\n",
       "    }\n",
       "\n",
       "    .dataframe thead th {\n",
       "        text-align: right;\n",
       "    }\n",
       "</style>\n",
       "<table border=\"1\" class=\"dataframe\">\n",
       "  <thead>\n",
       "    <tr style=\"text-align: right;\">\n",
       "      <th></th>\n",
       "      <th>Name</th>\n",
       "      <th>Mileage</th>\n",
       "      <th>Rating</th>\n",
       "      <th>Review Count</th>\n",
       "      <th>Price</th>\n",
       "    </tr>\n",
       "  </thead>\n",
       "  <tbody>\n",
       "    <tr>\n",
       "      <th>1</th>\n",
       "      <td>2022 Mercedes-Benz AMG SL 63 Base</td>\n",
       "      <td>5,540 mi.</td>\n",
       "      <td>4.7</td>\n",
       "      <td>1,239</td>\n",
       "      <td>$139,999</td>\n",
       "    </tr>\n",
       "    <tr>\n",
       "      <th>2</th>\n",
       "      <td>2022 Mercedes-Benz AMG SL 63 Base</td>\n",
       "      <td>4,890 mi.</td>\n",
       "      <td>4.7</td>\n",
       "      <td>1,239</td>\n",
       "      <td>$132,999</td>\n",
       "    </tr>\n",
       "    <tr>\n",
       "      <th>3</th>\n",
       "      <td>2020 Mercedes-Benz AMG E 53 Base 4MATIC</td>\n",
       "      <td>29,746 mi.</td>\n",
       "      <td>4.8</td>\n",
       "      <td>752</td>\n",
       "      <td>$58,587</td>\n",
       "    </tr>\n",
       "    <tr>\n",
       "      <th>4</th>\n",
       "      <td>2021 Mercedes-Benz AMG GLS 63 Base 4MATIC</td>\n",
       "      <td>32,631 mi.</td>\n",
       "      <td>5.0</td>\n",
       "      <td>1,502</td>\n",
       "      <td>$95,990</td>\n",
       "    </tr>\n",
       "    <tr>\n",
       "      <th>5</th>\n",
       "      <td>2022 Mercedes-Benz AMG E 53 Base 4MATIC</td>\n",
       "      <td>3,573 mi.</td>\n",
       "      <td>4.7</td>\n",
       "      <td>1,239</td>\n",
       "      <td>$74,999</td>\n",
       "    </tr>\n",
       "    <tr>\n",
       "      <th>...</th>\n",
       "      <td>...</td>\n",
       "      <td>...</td>\n",
       "      <td>...</td>\n",
       "      <td>...</td>\n",
       "      <td>...</td>\n",
       "    </tr>\n",
       "    <tr>\n",
       "      <th>2420</th>\n",
       "      <td>2021 Mercedes-Benz GLC 300 Base 4MATIC</td>\n",
       "      <td>47,890 mi.</td>\n",
       "      <td>4.6</td>\n",
       "      <td>716</td>\n",
       "      <td>$35,416</td>\n",
       "    </tr>\n",
       "    <tr>\n",
       "      <th>2421</th>\n",
       "      <td>2023 Mercedes-Benz AMG GT 43 Base</td>\n",
       "      <td>3,071 mi.</td>\n",
       "      <td>4.7</td>\n",
       "      <td>1,239</td>\n",
       "      <td>$85,999</td>\n",
       "    </tr>\n",
       "    <tr>\n",
       "      <th>2423</th>\n",
       "      <td>2020 Mercedes-Benz AMG GT 53 Base</td>\n",
       "      <td>36,814 mi.</td>\n",
       "      <td>4.7</td>\n",
       "      <td>1,424</td>\n",
       "      <td>$75,577</td>\n",
       "    </tr>\n",
       "    <tr>\n",
       "      <th>2426</th>\n",
       "      <td>2021 Mercedes-Benz GLB 250 Base 4MATIC</td>\n",
       "      <td>30,392 mi.</td>\n",
       "      <td>4.9</td>\n",
       "      <td>2,375</td>\n",
       "      <td>$32,890</td>\n",
       "    </tr>\n",
       "    <tr>\n",
       "      <th>2427</th>\n",
       "      <td>2023 Mercedes-Benz E-Class E 450 4MATIC</td>\n",
       "      <td>3,413 mi.</td>\n",
       "      <td>4.8</td>\n",
       "      <td>1,758</td>\n",
       "      <td>$53,983</td>\n",
       "    </tr>\n",
       "  </tbody>\n",
       "</table>\n",
       "<p>1285 rows × 5 columns</p>\n",
       "</div>"
      ],
      "text/plain": [
       "                                           Name     Mileage  Rating  \\\n",
       "1             2022 Mercedes-Benz AMG SL 63 Base   5,540 mi.     4.7   \n",
       "2             2022 Mercedes-Benz AMG SL 63 Base   4,890 mi.     4.7   \n",
       "3       2020 Mercedes-Benz AMG E 53 Base 4MATIC  29,746 mi.     4.8   \n",
       "4     2021 Mercedes-Benz AMG GLS 63 Base 4MATIC  32,631 mi.     5.0   \n",
       "5       2022 Mercedes-Benz AMG E 53 Base 4MATIC   3,573 mi.     4.7   \n",
       "...                                         ...         ...     ...   \n",
       "2420     2021 Mercedes-Benz GLC 300 Base 4MATIC  47,890 mi.     4.6   \n",
       "2421          2023 Mercedes-Benz AMG GT 43 Base   3,071 mi.     4.7   \n",
       "2423          2020 Mercedes-Benz AMG GT 53 Base  36,814 mi.     4.7   \n",
       "2426     2021 Mercedes-Benz GLB 250 Base 4MATIC  30,392 mi.     4.9   \n",
       "2427    2023 Mercedes-Benz E-Class E 450 4MATIC   3,413 mi.     4.8   \n",
       "\n",
       "     Review Count     Price  \n",
       "1          1,239   $139,999  \n",
       "2          1,239   $132,999  \n",
       "3            752    $58,587  \n",
       "4          1,502    $95,990  \n",
       "5          1,239    $74,999  \n",
       "...           ...       ...  \n",
       "2420         716    $35,416  \n",
       "2421       1,239    $85,999  \n",
       "2423       1,424    $75,577  \n",
       "2426       2,375    $32,890  \n",
       "2427       1,758    $53,983  \n",
       "\n",
       "[1285 rows x 5 columns]"
      ]
     },
     "execution_count": 30,
     "metadata": {},
     "output_type": "execute_result"
    }
   ],
   "source": [
    "df[df['Rating']>4.5]"
   ]
  },
  {
   "cell_type": "code",
   "execution_count": 32,
   "id": "83473769-ffe5-4d14-a9da-f439be14a4bc",
   "metadata": {},
   "outputs": [],
   "source": [
    "from io import StringIO, BytesIO\n"
   ]
  },
  {
   "cell_type": "code",
   "execution_count": 34,
   "id": "98a3de30-0fd0-4c19-97da-31a186e9fd00",
   "metadata": {},
   "outputs": [],
   "source": [
    "data=('col1,col2,col3\\n'\n",
    "          'x,y,1\\n'\n",
    "            'a,b,3\\n'\n",
    "            'c,d,5')"
   ]
  },
  {
   "cell_type": "code",
   "execution_count": 35,
   "id": "0d503fc5-3e9b-4a09-8f5e-1e0a07e042c8",
   "metadata": {},
   "outputs": [
    {
     "data": {
      "text/plain": [
       "str"
      ]
     },
     "execution_count": 35,
     "metadata": {},
     "output_type": "execute_result"
    }
   ],
   "source": [
    "type(data)"
   ]
  },
  {
   "cell_type": "code",
   "execution_count": 37,
   "id": "396e6f52-4f74-4b4a-b5a8-cf841772b7bc",
   "metadata": {},
   "outputs": [
    {
     "data": {
      "text/html": [
       "<div>\n",
       "<style scoped>\n",
       "    .dataframe tbody tr th:only-of-type {\n",
       "        vertical-align: middle;\n",
       "    }\n",
       "\n",
       "    .dataframe tbody tr th {\n",
       "        vertical-align: top;\n",
       "    }\n",
       "\n",
       "    .dataframe thead th {\n",
       "        text-align: right;\n",
       "    }\n",
       "</style>\n",
       "<table border=\"1\" class=\"dataframe\">\n",
       "  <thead>\n",
       "    <tr style=\"text-align: right;\">\n",
       "      <th></th>\n",
       "      <th>col1</th>\n",
       "      <th>col2</th>\n",
       "      <th>col3</th>\n",
       "    </tr>\n",
       "  </thead>\n",
       "  <tbody>\n",
       "    <tr>\n",
       "      <th>0</th>\n",
       "      <td>x</td>\n",
       "      <td>y</td>\n",
       "      <td>1</td>\n",
       "    </tr>\n",
       "    <tr>\n",
       "      <th>1</th>\n",
       "      <td>a</td>\n",
       "      <td>b</td>\n",
       "      <td>3</td>\n",
       "    </tr>\n",
       "    <tr>\n",
       "      <th>2</th>\n",
       "      <td>c</td>\n",
       "      <td>d</td>\n",
       "      <td>5</td>\n",
       "    </tr>\n",
       "  </tbody>\n",
       "</table>\n",
       "</div>"
      ],
      "text/plain": [
       "  col1 col2  col3\n",
       "0    x    y     1\n",
       "1    a    b     3\n",
       "2    c    d     5"
      ]
     },
     "execution_count": 37,
     "metadata": {},
     "output_type": "execute_result"
    }
   ],
   "source": [
    "pd.read_csv(StringIO(data))"
   ]
  },
  {
   "cell_type": "code",
   "execution_count": 43,
   "id": "0fa7974d-2ddf-4420-8b56-f92285473fa7",
   "metadata": {},
   "outputs": [],
   "source": [
    "df=pd.read_csv(StringIO(data),usecols=['col1','col3'])"
   ]
  },
  {
   "cell_type": "code",
   "execution_count": 44,
   "id": "b0578ba1-4be7-4bbb-9c2d-9566a6da0f35",
   "metadata": {},
   "outputs": [
    {
     "data": {
      "text/html": [
       "<div>\n",
       "<style scoped>\n",
       "    .dataframe tbody tr th:only-of-type {\n",
       "        vertical-align: middle;\n",
       "    }\n",
       "\n",
       "    .dataframe tbody tr th {\n",
       "        vertical-align: top;\n",
       "    }\n",
       "\n",
       "    .dataframe thead th {\n",
       "        text-align: right;\n",
       "    }\n",
       "</style>\n",
       "<table border=\"1\" class=\"dataframe\">\n",
       "  <thead>\n",
       "    <tr style=\"text-align: right;\">\n",
       "      <th></th>\n",
       "      <th>col1</th>\n",
       "      <th>col3</th>\n",
       "    </tr>\n",
       "  </thead>\n",
       "  <tbody>\n",
       "    <tr>\n",
       "      <th>0</th>\n",
       "      <td>x</td>\n",
       "      <td>1</td>\n",
       "    </tr>\n",
       "    <tr>\n",
       "      <th>1</th>\n",
       "      <td>a</td>\n",
       "      <td>3</td>\n",
       "    </tr>\n",
       "    <tr>\n",
       "      <th>2</th>\n",
       "      <td>c</td>\n",
       "      <td>5</td>\n",
       "    </tr>\n",
       "  </tbody>\n",
       "</table>\n",
       "</div>"
      ],
      "text/plain": [
       "  col1  col3\n",
       "0    x     1\n",
       "1    a     3\n",
       "2    c     5"
      ]
     },
     "execution_count": 44,
     "metadata": {},
     "output_type": "execute_result"
    }
   ],
   "source": [
    "df.head()"
   ]
  },
  {
   "cell_type": "code",
   "execution_count": 45,
   "id": "579fe4f5-bace-4d7f-80f6-f457eeaaf02c",
   "metadata": {},
   "outputs": [],
   "source": [
    "# coverting \n",
    "\n",
    "df.to_csv('Test.csv')"
   ]
  },
  {
   "cell_type": "code",
   "execution_count": 48,
   "id": "d0e5734a-e9b6-4540-9b9b-1c685516562e",
   "metadata": {},
   "outputs": [],
   "source": [
    "## specifying columns data typ\n",
    "\n",
    "data1 = ('col1,col2,col3\\n'\n",
    "        '1,2,3\\n'\n",
    "        '4,5,6\\n'\n",
    "        '7,8,9')\n"
   ]
  },
  {
   "cell_type": "code",
   "execution_count": 49,
   "id": "54ef550f-b985-4b24-b2bd-82aed474dcad",
   "metadata": {},
   "outputs": [
    {
     "name": "stdout",
     "output_type": "stream",
     "text": [
      "col1,col2,col3\n",
      "1,2,3\n",
      "4,5,6\n",
      "7,8,9\n"
     ]
    }
   ],
   "source": [
    "print(data1)"
   ]
  },
  {
   "cell_type": "code",
   "execution_count": 66,
   "id": "ff63a0d6-a2a0-4afe-9976-f96bcaeef093",
   "metadata": {},
   "outputs": [],
   "source": [
    "df=pd.read_csv(StringIO(data1),dtype=object)"
   ]
  },
  {
   "cell_type": "code",
   "execution_count": 67,
   "id": "10bec464-e3cd-49a9-9a06-5912092c49e7",
   "metadata": {},
   "outputs": [
    {
     "data": {
      "text/html": [
       "<div>\n",
       "<style scoped>\n",
       "    .dataframe tbody tr th:only-of-type {\n",
       "        vertical-align: middle;\n",
       "    }\n",
       "\n",
       "    .dataframe tbody tr th {\n",
       "        vertical-align: top;\n",
       "    }\n",
       "\n",
       "    .dataframe thead th {\n",
       "        text-align: right;\n",
       "    }\n",
       "</style>\n",
       "<table border=\"1\" class=\"dataframe\">\n",
       "  <thead>\n",
       "    <tr style=\"text-align: right;\">\n",
       "      <th></th>\n",
       "      <th>col1</th>\n",
       "      <th>col2</th>\n",
       "      <th>col3</th>\n",
       "    </tr>\n",
       "  </thead>\n",
       "  <tbody>\n",
       "    <tr>\n",
       "      <th>0</th>\n",
       "      <td>1</td>\n",
       "      <td>2</td>\n",
       "      <td>3</td>\n",
       "    </tr>\n",
       "    <tr>\n",
       "      <th>1</th>\n",
       "      <td>4</td>\n",
       "      <td>5</td>\n",
       "      <td>6</td>\n",
       "    </tr>\n",
       "    <tr>\n",
       "      <th>2</th>\n",
       "      <td>7</td>\n",
       "      <td>8</td>\n",
       "      <td>9</td>\n",
       "    </tr>\n",
       "  </tbody>\n",
       "</table>\n",
       "</div>"
      ],
      "text/plain": [
       "  col1 col2 col3\n",
       "0    1    2    3\n",
       "1    4    5    6\n",
       "2    7    8    9"
      ]
     },
     "execution_count": 67,
     "metadata": {},
     "output_type": "execute_result"
    }
   ],
   "source": [
    "df"
   ]
  },
  {
   "cell_type": "code",
   "execution_count": 68,
   "id": "ab94bdd1-553f-44e7-a932-01869457dafb",
   "metadata": {},
   "outputs": [
    {
     "data": {
      "text/plain": [
       "'7'"
      ]
     },
     "execution_count": 68,
     "metadata": {},
     "output_type": "execute_result"
    }
   ],
   "source": [
    "df['col1'][2]"
   ]
  },
  {
   "cell_type": "code",
   "execution_count": 69,
   "id": "64f90299-4965-46eb-a6d2-1ee78f6d3d90",
   "metadata": {},
   "outputs": [],
   "source": [
    "df=pd.read_csv(StringIO(data1),dtype={'col1':int,'col2':float,'col3':object})"
   ]
  },
  {
   "cell_type": "code",
   "execution_count": 70,
   "id": "4abfa64c-3782-433a-baa7-133e827956fc",
   "metadata": {},
   "outputs": [
    {
     "data": {
      "text/plain": [
       "np.int64(1)"
      ]
     },
     "execution_count": 70,
     "metadata": {},
     "output_type": "execute_result"
    }
   ],
   "source": [
    "df['col1'][0]"
   ]
  },
  {
   "cell_type": "code",
   "execution_count": 71,
   "id": "d615defd-a820-4ef2-aafa-3cf87156b6af",
   "metadata": {},
   "outputs": [
    {
     "data": {
      "text/plain": [
       "np.float64(8.0)"
      ]
     },
     "execution_count": 71,
     "metadata": {},
     "output_type": "execute_result"
    }
   ],
   "source": [
    "df['col2'][2]"
   ]
  },
  {
   "cell_type": "code",
   "execution_count": 72,
   "id": "098d4cde-9905-4c55-b607-d0c96902d371",
   "metadata": {},
   "outputs": [
    {
     "data": {
      "text/plain": [
       "'6'"
      ]
     },
     "execution_count": 72,
     "metadata": {},
     "output_type": "execute_result"
    }
   ],
   "source": [
    "df['col3'][1]"
   ]
  },
  {
   "cell_type": "code",
   "execution_count": 73,
   "id": "82ecd98c-a6ca-4870-9f02-12f9f48e656e",
   "metadata": {},
   "outputs": [
    {
     "data": {
      "text/html": [
       "<div>\n",
       "<style scoped>\n",
       "    .dataframe tbody tr th:only-of-type {\n",
       "        vertical-align: middle;\n",
       "    }\n",
       "\n",
       "    .dataframe tbody tr th {\n",
       "        vertical-align: top;\n",
       "    }\n",
       "\n",
       "    .dataframe thead th {\n",
       "        text-align: right;\n",
       "    }\n",
       "</style>\n",
       "<table border=\"1\" class=\"dataframe\">\n",
       "  <thead>\n",
       "    <tr style=\"text-align: right;\">\n",
       "      <th></th>\n",
       "      <th>col1</th>\n",
       "      <th>col2</th>\n",
       "      <th>col3</th>\n",
       "    </tr>\n",
       "  </thead>\n",
       "  <tbody>\n",
       "    <tr>\n",
       "      <th>0</th>\n",
       "      <td>1</td>\n",
       "      <td>2.0</td>\n",
       "      <td>3</td>\n",
       "    </tr>\n",
       "    <tr>\n",
       "      <th>1</th>\n",
       "      <td>4</td>\n",
       "      <td>5.0</td>\n",
       "      <td>6</td>\n",
       "    </tr>\n",
       "    <tr>\n",
       "      <th>2</th>\n",
       "      <td>7</td>\n",
       "      <td>8.0</td>\n",
       "      <td>9</td>\n",
       "    </tr>\n",
       "  </tbody>\n",
       "</table>\n",
       "</div>"
      ],
      "text/plain": [
       "   col1  col2 col3\n",
       "0     1   2.0    3\n",
       "1     4   5.0    6\n",
       "2     7   8.0    9"
      ]
     },
     "execution_count": 73,
     "metadata": {},
     "output_type": "execute_result"
    }
   ],
   "source": [
    "df"
   ]
  },
  {
   "cell_type": "code",
   "execution_count": 88,
   "id": "ee03e60b-52b8-4131-a11d-81d86c3a21a0",
   "metadata": {},
   "outputs": [],
   "source": [
    "data2 = 'a,b\\n\"hello, \\\\\"bob\\\\\",nice to see you\"'\n"
   ]
  },
  {
   "cell_type": "code",
   "execution_count": 90,
   "id": "1da67cd1-877f-4106-b9e7-2ea6a7e8b0c0",
   "metadata": {},
   "outputs": [
    {
     "data": {
      "text/html": [
       "<div>\n",
       "<style scoped>\n",
       "    .dataframe tbody tr th:only-of-type {\n",
       "        vertical-align: middle;\n",
       "    }\n",
       "\n",
       "    .dataframe tbody tr th {\n",
       "        vertical-align: top;\n",
       "    }\n",
       "\n",
       "    .dataframe thead th {\n",
       "        text-align: right;\n",
       "    }\n",
       "</style>\n",
       "<table border=\"1\" class=\"dataframe\">\n",
       "  <thead>\n",
       "    <tr style=\"text-align: right;\">\n",
       "      <th></th>\n",
       "      <th>a</th>\n",
       "      <th>b</th>\n",
       "    </tr>\n",
       "  </thead>\n",
       "  <tbody>\n",
       "    <tr>\n",
       "      <th>0</th>\n",
       "      <td>hello, \bob</td>\n",
       "      <td>nice to see you</td>\n",
       "    </tr>\n",
       "  </tbody>\n",
       "</table>\n",
       "</div>"
      ],
      "text/plain": [
       "            a                b\n",
       "0  hello, \bob  nice to see you"
      ]
     },
     "execution_count": 90,
     "metadata": {},
     "output_type": "execute_result"
    }
   ],
   "source": [
    "pd.read_csv(StringIO(data2),escapechar='\\\\')"
   ]
  },
  {
   "cell_type": "code",
   "execution_count": null,
   "id": "6050ac73-6bc9-4259-8789-7fe2f3c2b26a",
   "metadata": {},
   "outputs": [],
   "source": []
  }
 ],
 "metadata": {
  "kernelspec": {
   "display_name": "Python 3 (ipykernel)",
   "language": "python",
   "name": "python3"
  },
  "language_info": {
   "codemirror_mode": {
    "name": "ipython",
    "version": 3
   },
   "file_extension": ".py",
   "mimetype": "text/x-python",
   "name": "python",
   "nbconvert_exporter": "python",
   "pygments_lexer": "ipython3",
   "version": "3.12.10"
  }
 },
 "nbformat": 4,
 "nbformat_minor": 5
}
